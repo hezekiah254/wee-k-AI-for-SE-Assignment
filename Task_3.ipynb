{
 "cells": [
  {
   "cell_type": "code",
   "execution_count": 3,
   "id": "554f6f31-e49c-4d72-b16b-cc2b9ccdbf85",
   "metadata": {},
   "outputs": [
    {
     "ename": "ModuleNotFoundError",
     "evalue": "No module named 'textblob'",
     "output_type": "error",
     "traceback": [
      "\u001b[31m---------------------------------------------------------------------------\u001b[39m",
      "\u001b[31mModuleNotFoundError\u001b[39m                       Traceback (most recent call last)",
      "\u001b[36mCell\u001b[39m\u001b[36m \u001b[39m\u001b[32mIn[3]\u001b[39m\u001b[32m, line 7\u001b[39m\n\u001b[32m      1\u001b[39m \u001b[38;5;66;03m# 📘 Task 3: NLP with spaCy\u001b[39;00m\n\u001b[32m      2\u001b[39m \u001b[38;5;66;03m# Goal: Perform Named Entity Recognition (NER) and analyze sentiment using a rule-based approach.\u001b[39;00m\n\u001b[32m      3\u001b[39m \n\u001b[32m      4\u001b[39m \u001b[38;5;66;03m# Step 1: Install and Import Libraries\u001b[39;00m\n\u001b[32m      6\u001b[39m \u001b[38;5;28;01mimport\u001b[39;00m\u001b[38;5;250m \u001b[39m\u001b[34;01mspacy\u001b[39;00m\n\u001b[32m----> \u001b[39m\u001b[32m7\u001b[39m \u001b[38;5;28;01mfrom\u001b[39;00m\u001b[38;5;250m \u001b[39m\u001b[34;01mtextblob\u001b[39;00m\u001b[38;5;250m \u001b[39m\u001b[38;5;28;01mimport\u001b[39;00m TextBlob\n\u001b[32m      8\u001b[39m \u001b[38;5;28;01mimport\u001b[39;00m\u001b[38;5;250m \u001b[39m\u001b[34;01mmatplotlib\u001b[39;00m\u001b[34;01m.\u001b[39;00m\u001b[34;01mpyplot\u001b[39;00m\u001b[38;5;250m \u001b[39m\u001b[38;5;28;01mas\u001b[39;00m\u001b[38;5;250m \u001b[39m\u001b[34;01mplt\u001b[39;00m\n\u001b[32m      9\u001b[39m \u001b[38;5;28;01mfrom\u001b[39;00m\u001b[38;5;250m \u001b[39m\u001b[34;01mspacy\u001b[39;00m\u001b[38;5;250m \u001b[39m\u001b[38;5;28;01mimport\u001b[39;00m displacy\n",
      "\u001b[31mModuleNotFoundError\u001b[39m: No module named 'textblob'"
     ]
    }
   ],
   "source": [
    "# 📘 Task 3: NLP with spaCy\n",
    "# Goal: Perform Named Entity Recognition (NER) and analyze sentiment using a rule-based approach.\n",
    "\n",
    "# Step 1: Install and Import Libraries\n",
    "\n",
    "import spacy\n",
    "from textblob import TextBlob\n",
    "import matplotlib.pyplot as plt\n",
    "from spacy import displacy\n",
    "\n",
    "# Load English spaCy model\n",
    "nlp = spacy.load(\"en_core_web_sm\")\n",
    "\n",
    "# Step 2: Example Amazon Product Reviews\n",
    "reviews = [\n",
    "    \"I love my new iPhone 15! The camera quality from Apple is just amazing.\",\n",
    "    \"The Samsung Galaxy S23 battery drains too quickly. Totally disappointed.\",\n",
    "    \"I bought a Dell XPS laptop and it performs great for programming.\",\n",
    "    \"Sony headphones are overpriced and not very comfortable.\",\n",
    "    \"The Amazon Echo Dot is fantastic — I use it every day for music and reminders!\"\n",
    "]\n",
    "\n",
    "# Step 3: Perform NER and Sentiment Analysis\n",
    "results = []\n",
    "\n",
    "for review in reviews:\n",
    "    doc = nlp(review)\n",
    "    entities = [(ent.text, ent.label_) for ent in doc.ents]\n",
    "    sentiment_score = TextBlob(review).sentiment.polarity\n",
    "    sentiment_label = \"Positive\" if sentiment_score > 0 else \"Negative\" if sentiment_score < 0 else \"Neutral\"\n",
    "    results.append((review, entities, sentiment_label, sentiment_score))\n",
    "\n",
    "# Step 4: Display NER Visualization for Each Review\n",
    "for review in reviews:\n",
    "    doc = nlp(review)\n",
    "    print(f\"🔹 Review: {review}\\n\")\n",
    "    displacy.render(doc, style=\"ent\", jupyter=True)\n",
    "    print(\"-\" * 80)\n",
    "\n",
    "# Step 5: Sentiment Bar Chart\n",
    "sentiment_scores = [r[3] for r in results]\n",
    "sentiment_labels = [f\"Review {i+1}\" for i in range(len(results))]\n",
    "colors = [\"green\" if s > 0 else \"red\" if s < 0 else \"gray\" for s in sentiment_scores]\n",
    "\n",
    "plt.figure(figsize=(8,4))\n",
    "plt.bar(sentiment_labels, sentiment_scores, color=colors)\n",
    "plt.title(\"Sentiment Polarity of Amazon Product Reviews\")\n",
    "plt.xlabel(\"Review\")\n",
    "plt.ylabel(\"Sentiment Score (-1 to +1)\")\n",
    "plt.axhline(0, color=\"black\", linewidth=0.8)\n",
    "plt.show()\n",
    "\n",
    "# Step 6: Summary Output\n",
    "import pandas as pd\n",
    "df = pd.DataFrame(results, columns=[\"Review\", \"Named Entities\", \"Sentiment\", \"Polarity Score\"])\n",
    "df\n",
    "\n"
   ]
  },
  {
   "cell_type": "code",
   "execution_count": null,
   "id": "44bad87a-befc-442b-8409-df37482ecc97",
   "metadata": {},
   "outputs": [],
   "source": []
  },
  {
   "cell_type": "code",
   "execution_count": null,
   "id": "c7c24d30-37ad-4c70-9acf-64affe4f77c9",
   "metadata": {},
   "outputs": [],
   "source": []
  }
 ],
 "metadata": {
  "kernelspec": {
   "display_name": "Python 3 (ipykernel)",
   "language": "python",
   "name": "python3"
  },
  "language_info": {
   "codemirror_mode": {
    "name": "ipython",
    "version": 3
   },
   "file_extension": ".py",
   "mimetype": "text/x-python",
   "name": "python",
   "nbconvert_exporter": "python",
   "pygments_lexer": "ipython3",
   "version": "3.13.5"
  }
 },
 "nbformat": 4,
 "nbformat_minor": 5
}
